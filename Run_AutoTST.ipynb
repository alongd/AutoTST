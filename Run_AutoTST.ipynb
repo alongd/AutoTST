{
 "cells": [
  {
   "cell_type": "markdown",
   "metadata": {},
   "source": [
    "# AutoTST"
   ]
  },
  {
   "cell_type": "markdown",
   "metadata": {},
   "source": [
    "## Import Necessary Modules"
   ]
  },
  {
   "cell_type": "code",
   "execution_count": 1,
   "metadata": {
    "collapsed": true
   },
   "outputs": [],
   "source": [
    "import os\n",
    "import sys\n",
    "import logging\n",
    "\n",
    "import re\n",
    "import imp\n",
    "import itertools\n",
    "import cPickle as pickle\n",
    "import pandas as pd\n",
    "\n",
    "# do this before we have a chance to import openbabel!\n",
    "import rdkit, rdkit.Chem, rdkit.Chem.rdDistGeom, rdkit.DistanceGeometry\n",
    "\n",
    "from rmgpy.molecule import Molecule\n",
    "from rmgpy.species import Species\n",
    "from rmgpy.reaction import Reaction\n",
    "from rmgpy.kinetics import PDepArrhenius, PDepKineticsModel\n",
    "\n",
    "from rmgpy.data.rmg import RMGDatabase\n",
    "from rmgpy.data.kinetics import KineticsDepository, KineticsRules"
   ]
  },
  {
   "cell_type": "code",
   "execution_count": 2,
   "metadata": {
    "collapsed": true
   },
   "outputs": [],
   "source": [
    "from rmgpy.qm.main import QMCalculator\n",
    "from rmgpy.qm.reaction import *"
   ]
  },
  {
   "cell_type": "code",
   "execution_count": 5,
   "metadata": {
    "collapsed": false
   },
   "outputs": [
    {
     "name": "stderr",
     "output_type": "stream",
     "text": [
      "WARNING:root:Should only make one instance of RMGDatabase because it's stored as a module-level variable!\n",
      "WARNING:root:Unexpected behaviour may result!\n"
     ]
    },
    {
     "name": "stdout",
     "output_type": "stream",
     "text": [
      "Loading RMG Database ...\n",
      "RMG Database Loaded\n"
     ]
    }
   ],
   "source": [
    "rxnFamilies = ['H_Abstraction']  # Only looking at H_abstraction via OOH\n",
    "\n",
    "print 'Loading RMG Database ...'\n",
    "\n",
    "rmgDatabase = RMGDatabase()\n",
    "databasePath = os.path.abspath(os.path.join(os.getenv('RMGpy', '..'), \"..\", 'RMG-database', 'input'))\n",
    "logging.info(databasePath)\n",
    "rmgDatabase.load(databasePath,\n",
    "                 kineticsFamilies=rxnFamilies,\n",
    "                 transportLibraries=[],\n",
    "                 reactionLibraries=[],\n",
    "                 seedMechanisms=[],\n",
    "                 thermoLibraries=['primaryThermoLibrary', 'KlippensteinH2O2', 'thermo_DFT_CCSDTF12_BAC', 'CBS_QB3_1dHR' ], #'KlippensteinH2O2' ],\n",
    "                 solvation=False,\n",
    "                 )\n",
    "print 'RMG Database Loaded'"
   ]
  },
  {
   "cell_type": "code",
   "execution_count": 20,
   "metadata": {
    "collapsed": true
   },
   "outputs": [],
   "source": [
    "#oohReaction = eval('Reaction(reactants=[Species(label=\"H2O2\", molecule=[Molecule(SMILES=\"OO\")]), Species(label=\"H\", molecule=[Molecule(SMILES=\"[H]\")])], products=[Species(label=\"HO2\", molecule=[Molecule(SMILES=\"[O]O\")]), Species(label=\"H2\", molecule=[Molecule(SMILES=\"[H][H]\")])])')\n",
    "reactants = [Species(molecule=[Molecule(SMILES = \"CCCC\")]), Species(molecule=[Molecule(SMILES = \"[O]O\")])]\n",
    "products = [Species(molecule=[Molecule(SMILES = \"[CH2]CCC\")]), Species(molecule=[Molecule(SMILES = \"OO\")])]\n",
    "oohReaction = Reaction(reactants=reactants, products=products)\n",
    "\n",
    "rxnFamily = \"H_Abstraction\"\n",
    "rSpecies1, rSpecies2 = oohReaction.reactants\n",
    "pSpecies1, pSpecies2 = oohReaction.products\n",
    "\n",
    "rSpecies1.generateResonanceIsomers()\n",
    "rSpecies2.generateResonanceIsomers()\n",
    "pSpecies1.generateResonanceIsomers()\n",
    "pSpecies2.generateResonanceIsomers()"
   ]
  },
  {
   "cell_type": "code",
   "execution_count": 21,
   "metadata": {
    "collapsed": false
   },
   "outputs": [
    {
     "data": {
      "text/plain": [
       "[Reaction(reactants=[Molecule(SMILES=\"CCCC\"), Molecule(SMILES=\"[O]O\")], products=[Molecule(SMILES=\"OO\"), Molecule(SMILES=\"C[CH]CC\")], pairs=[[Molecule(SMILES=\"CCCC\"), Molecule(SMILES=\"C[CH]CC\")], [Molecule(SMILES=\"[O]O\"), Molecule(SMILES=\"OO\")]]),\n",
       " Reaction(reactants=[Molecule(SMILES=\"CCCC\"), Molecule(SMILES=\"[O]O\")], products=[Molecule(SMILES=\"OO\"), Molecule(SMILES=\"C[CH]CC\")], pairs=[[Molecule(SMILES=\"CCCC\"), Molecule(SMILES=\"C[CH]CC\")], [Molecule(SMILES=\"[O]O\"), Molecule(SMILES=\"OO\")]]),\n",
       " Reaction(reactants=[Molecule(SMILES=\"CCCC\"), Molecule(SMILES=\"[O]O\")], products=[Molecule(SMILES=\"OO\"), Molecule(SMILES=\"C[CH]CC\")], pairs=[[Molecule(SMILES=\"CCCC\"), Molecule(SMILES=\"C[CH]CC\")], [Molecule(SMILES=\"[O]O\"), Molecule(SMILES=\"OO\")]]),\n",
       " Reaction(reactants=[Molecule(SMILES=\"CCCC\"), Molecule(SMILES=\"[O]O\")], products=[Molecule(SMILES=\"OO\"), Molecule(SMILES=\"C[CH]CC\")], pairs=[[Molecule(SMILES=\"CCCC\"), Molecule(SMILES=\"C[CH]CC\")], [Molecule(SMILES=\"[O]O\"), Molecule(SMILES=\"OO\")]]),\n",
       " Reaction(reactants=[Molecule(SMILES=\"CCCC\"), Molecule(SMILES=\"[O]O\")], products=[Molecule(SMILES=\"OO\"), Molecule(SMILES=\"[CH2]CCC\")], pairs=[[Molecule(SMILES=\"CCCC\"), Molecule(SMILES=\"[CH2]CCC\")], [Molecule(SMILES=\"[O]O\"), Molecule(SMILES=\"OO\")]]),\n",
       " Reaction(reactants=[Molecule(SMILES=\"CCCC\"), Molecule(SMILES=\"[O]O\")], products=[Molecule(SMILES=\"OO\"), Molecule(SMILES=\"[CH2]CCC\")], pairs=[[Molecule(SMILES=\"CCCC\"), Molecule(SMILES=\"[CH2]CCC\")], [Molecule(SMILES=\"[O]O\"), Molecule(SMILES=\"OO\")]]),\n",
       " Reaction(reactants=[Molecule(SMILES=\"CCCC\"), Molecule(SMILES=\"[O]O\")], products=[Molecule(SMILES=\"OO\"), Molecule(SMILES=\"[CH2]CCC\")], pairs=[[Molecule(SMILES=\"CCCC\"), Molecule(SMILES=\"[CH2]CCC\")], [Molecule(SMILES=\"[O]O\"), Molecule(SMILES=\"OO\")]]),\n",
       " Reaction(reactants=[Molecule(SMILES=\"CCCC\"), Molecule(SMILES=\"[O]O\")], products=[Molecule(SMILES=\"OO\"), Molecule(SMILES=\"[CH2]CCC\")], pairs=[[Molecule(SMILES=\"CCCC\"), Molecule(SMILES=\"[CH2]CCC\")], [Molecule(SMILES=\"[O]O\"), Molecule(SMILES=\"OO\")]]),\n",
       " Reaction(reactants=[Molecule(SMILES=\"CCCC\"), Molecule(SMILES=\"[O]O\")], products=[Molecule(SMILES=\"OO\"), Molecule(SMILES=\"[CH2]CCC\")], pairs=[[Molecule(SMILES=\"CCCC\"), Molecule(SMILES=\"[CH2]CCC\")], [Molecule(SMILES=\"[O]O\"), Molecule(SMILES=\"OO\")]]),\n",
       " Reaction(reactants=[Molecule(SMILES=\"CCCC\"), Molecule(SMILES=\"[O]O\")], products=[Molecule(SMILES=\"OO\"), Molecule(SMILES=\"[CH2]CCC\")], pairs=[[Molecule(SMILES=\"CCCC\"), Molecule(SMILES=\"[CH2]CCC\")], [Molecule(SMILES=\"[O]O\"), Molecule(SMILES=\"OO\")]])]"
      ]
     },
     "execution_count": 21,
     "metadata": {},
     "output_type": "execute_result"
    }
   ],
   "source": [
    "testReaction = Reaction(reactants=[rSpecies1, rSpecies2], products=[pSpecies1, pSpecies2], reversible=True)\n",
    "reactionList = []\n",
    "for moleculeA in rSpecies1.molecule:\n",
    "    for moleculeB in rSpecies2.molecule:\n",
    "        tempList = rmgDatabase.kinetics.generateReactionsFromFamilies([moleculeA, moleculeB], [], only_families=[rxnFamily])\n",
    "        for rxn0 in tempList:\n",
    "            reactionList.append(rxn0)\n",
    "            \n",
    "reactionList"
   ]
  },
  {
   "cell_type": "code",
   "execution_count": 22,
   "metadata": {
    "collapsed": false
   },
   "outputs": [
    {
     "data": {
      "image/png": "[encoded data removed]",
      "text/plain": [
       "Reaction(reactants=[Molecule(SMILES=\"CCCC\"), Molecule(SMILES=\"[O]O\")], products=[Molecule(SMILES=\"OO\"), Molecule(SMILES=\"[CH2]CCC\")], pairs=[[Molecule(SMILES=\"CCCC\"), Molecule(SMILES=\"[CH2]CCC\")], [Molecule(SMILES=\"[O]O\"), Molecule(SMILES=\"OO\")]])"
      ]
     },
     "execution_count": 22,
     "metadata": {},
     "output_type": "execute_result"
    }
   ],
   "source": [
    "for reaction in reactionList:\n",
    "    # Check if any of the RMG proposed reactions matches the reaction in the mechanism\n",
    "    if testReaction.isIsomorphic(reaction):\n",
    "        # Now add the labeled atoms to the Molecule, and check all labels were added\n",
    "        atLblsR = dict([(lbl[0], False) for lbl in reaction.labeledAtoms])\n",
    "        atLblsP = dict([(lbl[0], False) for lbl in reaction.labeledAtoms])\n",
    "\n",
    "        for reactant in reaction.reactants:\n",
    "\n",
    "            reactant.clearLabeledAtoms()\n",
    "            for atom in reactant.atoms:\n",
    "                for atomLabel in reaction.labeledAtoms:\n",
    "                    if atom==atomLabel[1]:\n",
    "                        atom.label = atomLabel[0]\n",
    "                        atLblsR[atomLabel[0]] = True\n",
    "        for product in reaction.products:\n",
    "\n",
    "            product.clearLabeledAtoms()\n",
    "            for atom in product.atoms:\n",
    "                for atomLabel in reaction.labeledAtoms:\n",
    "                    if atom==atomLabel[1]:\n",
    "                        atom.label = atomLabel[0]\n",
    "                        atLblsP[atomLabel[0]] = True\n",
    "        if all( atLblsR.values() ) and all( atLblsP.values() ):\n",
    "            gotOne=True\n",
    "            break\n",
    "reaction"
   ]
  },
  {
   "cell_type": "code",
   "execution_count": 23,
   "metadata": {
    "collapsed": true
   },
   "outputs": [],
   "source": [
    "import py3Dmol\n",
    "from rmgpy.qm.main import QMCalculator\n",
    "from rmgpy.qm.reaction import *\n",
    "from rmgpy.qm.main import QMSettings\n",
    "\n",
    "def view_mol(rdkit_mol):\n",
    "    \"\"\"\n",
    "    A method designed to create a 3D figure of the Multi_Molecule with py3Dmol\n",
    "    \"\"\"\n",
    "    from rdkit import Chem\n",
    "    mb  = Chem.MolToMolBlock(rdkit_mol)\n",
    "    p = py3Dmol.view(width=400, height=400)\n",
    "    p.addModel(mb, \"sdf\")\n",
    "    p.setStyle({'stick':{}})\n",
    "    p.setBackgroundColor('0xeeeeee')\n",
    "    p.zoomTo()\n",
    "    return p.show()"
   ]
  },
  {
   "cell_type": "code",
   "execution_count": 24,
   "metadata": {
    "collapsed": false
   },
   "outputs": [
    {
     "data": {
      "text/plain": [
       "<rmgpy.data.kinetics.transitionstates.TransitionStates instance at 0x110f03dd0>"
      ]
     },
     "execution_count": 24,
     "metadata": {},
     "output_type": "execute_result"
    }
   ],
   "source": [
    "settings = QMSettings(\n",
    "    software='gaussian',\n",
    "    method='m062x',\n",
    "    fileStore=os.path.expandvars('.'),\n",
    "    scratchDirectory=os.path.expandvars('.'),\n",
    "    )\n",
    "\n",
    "tsDatabase = rmgDatabase.kinetics.families[\"H_Abstraction\"].transitionStates\n",
    "tsDatabase"
   ]
  },
  {
   "cell_type": "code",
   "execution_count": 25,
   "metadata": {
    "collapsed": false
   },
   "outputs": [
    {
     "data": {
      "text/plain": [
       "<rmgpy.qm.reaction.QMReaction instance at 0x112e0ea28>"
      ]
     },
     "execution_count": 25,
     "metadata": {},
     "output_type": "execute_result"
    }
   ],
   "source": [
    "rxn = QMReaction(reaction=reaction, settings=settings, tsDatabase=tsDatabase)\n",
    "rxn"
   ]
  },
  {
   "cell_type": "code",
   "execution_count": 26,
   "metadata": {
    "collapsed": false
   },
   "outputs": [
    {
     "data": {
      "image/png": "[encoded data removed]",
      "text/plain": [
       "Molecule(SMILES=\"CCCC.[O]O\")"
      ]
     },
     "execution_count": 26,
     "metadata": {},
     "output_type": "execute_result"
    }
   ],
   "source": [
    "reacts, products = rxn.setupMolecules()\n",
    "reacts"
   ]
  },
  {
   "cell_type": "code",
   "execution_count": 27,
   "metadata": {
    "collapsed": false
   },
   "outputs": [
    {
     "data": {
      "text/html": [
       "<div id=\"3dmolviewer_15193305896\"  style=\"position: relative; width: 400px; height: 400px\">\n",
       "<script>\n",
       "if(typeof $3Dmolpromise === 'undefined') $3Dmolpromise = $.when($.getScript('https://3dmol.csb.pitt.edu/build/3Dmol.js'))\n",
       "var viewer_15193305896 = null;\n",
       "$3Dmolpromise.done(function() {\n",
       "viewer_15193305896 = $3Dmol.createViewer($(\"#3dmolviewer_15193305896\"),{backgroundColor:\"white\"});\n",
       "\tviewer_15193305896.addModel(\"\\n     RDKit          3D\\n\\n 17 15  0  0  0  0  0  0  0  0999 V2000\\n   -0.5500    0.4697   -0.0163 C   0  0  0  0  0  0  0  0  0  0  0  0\\n    0.6206   -0.4806   -0.0331 C   0  0  0  0  0  0  0  0  0  0  0  0\\n   -1.8730   -0.2393   -0.1438 C   0  0  0  0  0  0  0  0  0  0  0  0\\n    1.8633    0.2323    0.4598 C   0  0  0  0  0  0  0  0  0  0  0  0\\n   -0.4723    1.2827   -0.7470 H   0  0  0  0  0  0  0  0  0  0  0  0\\n   -0.5320    0.9227    1.0084 H   0  0  0  0  0  0  0  0  0  0  0  0\\n    0.3630   -1.2894    0.6967 H   0  0  0  0  0  0  0  0  0  0  0  0\\n    0.8003   -0.9536   -1.0090 H   0  0  0  0  0  0  0  0  0  0  0  0\\n   -2.4378   -0.2799    0.8083 H   0  0  0  0  0  0  0  0  0  0  0  0\\n   -2.5141    0.3276   -0.8653 H   0  0  0  0  0  0  0  0  0  0  0  0\\n   -1.7407   -1.2476   -0.6066 H   0  0  0  0  0  0  0  0  0  0  0  0\\n    1.5750    1.1744    0.9516 H   0  0  0  0  0  0  0  0  0  0  0  0\\n    2.3722   -0.3841    1.2378 H   0  0  0  0  0  0  0  0  0  0  0  0\\n    2.5255    0.4650   -0.3961 H   0  0  0  0  0  0  0  0  0  0  0  0\\n   -0.1490    0.4306   -0.0000 O   0  0  0  0  0  0  0  0  0  0  0  0\\n    1.0138   -0.1642    0.0000 O   0  0  0  0  0  1  0  0  0  0  0  0\\n   -0.8649   -0.2665   -0.0000 H   0  0  0  0  0  0  0  0  0  0  0  0\\n  1  6  1  0\\n  1  2  1  0\\n  1  3  1  0\\n  1  5  1  0\\n  2  4  1  0\\n  2  7  1  0\\n  2  8  1  0\\n  3  9  1  0\\n  3 10  1  0\\n  3 11  1  0\\n  4 13  1  0\\n  4 14  1  0\\n  4 12  1  0\\n 15 16  1  0\\n 15 17  1  0\\nM  RAD  1  16   2\\nM  END\\n\",\"sdf\");\n",
       "\tviewer_15193305896.setStyle({\"stick\": {}});\n",
       "\tviewer_15193305896.setBackgroundColor(\"0xeeeeee\");\n",
       "\tviewer_15193305896.zoomTo();\n",
       "viewer_15193305896.render();\n",
       "});\n",
       "</script>"
      ],
      "text/plain": [
       "<IPython.core.display.HTML object>"
      ]
     },
     "execution_count": 27,
     "metadata": {},
     "output_type": "execute_result"
    }
   ],
   "source": [
    "rdkit_mol, bm, rxn.reactantGeom =  rxn.generateBoundsMatrix(reacts)\n",
    "view_mol(rdkit_mol)"
   ]
  },
  {
   "cell_type": "code",
   "execution_count": 30,
   "metadata": {
    "collapsed": false
   },
   "outputs": [
    {
     "data": {
      "text/plain": [
       "([2, 8, 15], ((2,), (8,), (15,)))"
      ]
     },
     "execution_count": 30,
     "metadata": {},
     "output_type": "execute_result"
    }
   ],
   "source": [
    "labels, atom_match = rxn.getLabels(reacts)\n",
    "labels, atom_match"
   ]
  },
  {
   "cell_type": "code",
   "execution_count": 33,
   "metadata": {
    "collapsed": false,
    "scrolled": true
   },
   "outputs": [
    {
     "data": {
      "text/plain": [
       "array([[  0.00000000e+00,   1.52400000e+00,   1.52400000e+00,\n",
       "          2.51279063e+00,   1.11940079e+00,   1.11940079e+00,\n",
       "          2.19506659e+00,   2.19506659e+00,   2.19506659e+00,\n",
       "          2.19506659e+00,   2.19506659e+00,   3.43890609e+00,\n",
       "          3.43890609e+00,   3.43890609e+00,   1.00000000e+03,\n",
       "          1.00000000e+03,   1.00000000e+03],\n",
       "       [  1.50400000e+00,   0.00000000e+00,   2.51279063e+00,\n",
       "          1.52400000e+00,   2.19506659e+00,   2.19506659e+00,\n",
       "          1.11940079e+00,   1.11940079e+00,   3.43890609e+00,\n",
       "          3.43890609e+00,   3.43890609e+00,   2.19506659e+00,\n",
       "          2.19506659e+00,   2.19506659e+00,   1.00000000e+03,\n",
       "          1.00000000e+03,   1.00000000e+03],\n",
       "       [  1.50400000e+00,   2.43279063e+00,   0.00000000e+00,\n",
       "          3.81071948e+00,   2.19506659e+00,   2.19506659e+00,\n",
       "          3.43890609e+00,   3.43890609e+00,   1.39040100e+00,\n",
       "          1.11940079e+00,   1.11940079e+00,   1.00000000e+03,\n",
       "          1.00000000e+03,   1.00000000e+03,   1.00000000e+03,\n",
       "          2.54034300e+00,   1.00000000e+03],\n",
       "       [  2.43279063e+00,   1.50400000e+00,   2.52476717e+00,\n",
       "          0.00000000e+00,   3.43890609e+00,   3.43890609e+00,\n",
       "          2.19506659e+00,   2.19506659e+00,   1.00000000e+03,\n",
       "          1.00000000e+03,   1.00000000e+03,   1.11940079e+00,\n",
       "          1.11940079e+00,   1.11940079e+00,   1.00000000e+03,\n",
       "          1.00000000e+03,   1.00000000e+03],\n",
       "       [  1.09940079e+00,   2.11506659e+00,   2.11506659e+00,\n",
       "          2.41995244e+00,   0.00000000e+00,   1.85196558e+00,\n",
       "          3.07538100e+00,   3.07538100e+00,   3.07538100e+00,\n",
       "          3.07538100e+00,   3.07538100e+00,   1.00000000e+03,\n",
       "          1.00000000e+03,   1.00000000e+03,   1.00000000e+03,\n",
       "          1.00000000e+03,   1.00000000e+03],\n",
       "       [  1.09940079e+00,   2.11506659e+00,   2.11506659e+00,\n",
       "          2.41995244e+00,   1.77196558e+00,   0.00000000e+00,\n",
       "          3.07538100e+00,   3.07538100e+00,   3.07538100e+00,\n",
       "          3.07538100e+00,   3.07538100e+00,   1.00000000e+03,\n",
       "          1.00000000e+03,   1.00000000e+03,   1.00000000e+03,\n",
       "          1.00000000e+03,   1.00000000e+03],\n",
       "       [  2.11506659e+00,   1.09940079e+00,   2.41995244e+00,\n",
       "          2.11506659e+00,   2.25465119e+00,   2.25465119e+00,\n",
       "          0.00000000e+00,   1.85196558e+00,   1.00000000e+03,\n",
       "          1.00000000e+03,   1.00000000e+03,   3.07538100e+00,\n",
       "          3.07538100e+00,   3.07538100e+00,   1.00000000e+03,\n",
       "          1.00000000e+03,   1.00000000e+03],\n",
       "       [  2.11506659e+00,   1.09940079e+00,   2.41995244e+00,\n",
       "          2.11506659e+00,   2.25465119e+00,   2.25465119e+00,\n",
       "          1.77196558e+00,   0.00000000e+00,   1.00000000e+03,\n",
       "          1.00000000e+03,   1.00000000e+03,   3.07538100e+00,\n",
       "          3.07538100e+00,   3.07538100e+00,   1.00000000e+03,\n",
       "          1.00000000e+03,   1.00000000e+03],\n",
       "       [  2.11506659e+00,   2.41995244e+00,   1.37040100e+00,\n",
       "          2.20500000e+00,   2.25465119e+00,   2.25465119e+00,\n",
       "          1.68000000e+00,   1.68000000e+00,   0.00000000e+00,\n",
       "          1.85196558e+00,   1.85196558e+00,   1.00000000e+03,\n",
       "          1.00000000e+03,   1.00000000e+03,   1.00000000e+03,\n",
       "          1.16707400e+00,   1.00000000e+03],\n",
       "       [  2.11506659e+00,   2.41995244e+00,   1.09940079e+00,\n",
       "          2.20500000e+00,   2.25465119e+00,   2.25465119e+00,\n",
       "          1.68000000e+00,   1.68000000e+00,   1.77196558e+00,\n",
       "          0.00000000e+00,   1.85196558e+00,   1.00000000e+03,\n",
       "          1.00000000e+03,   1.00000000e+03,   1.00000000e+03,\n",
       "          1.00000000e+03,   1.00000000e+03],\n",
       "       [  2.11506659e+00,   2.41995244e+00,   1.09940079e+00,\n",
       "          2.20500000e+00,   2.25465119e+00,   2.25465119e+00,\n",
       "          1.68000000e+00,   1.68000000e+00,   1.77196558e+00,\n",
       "          1.77196558e+00,   0.00000000e+00,   1.00000000e+03,\n",
       "          1.00000000e+03,   1.00000000e+03,   1.00000000e+03,\n",
       "          1.00000000e+03,   1.00000000e+03],\n",
       "       [  2.41995244e+00,   2.11506659e+00,   2.20500000e+00,\n",
       "          1.09940079e+00,   1.68000000e+00,   1.68000000e+00,\n",
       "          2.25465119e+00,   2.25465119e+00,   2.04000000e+00,\n",
       "          2.04000000e+00,   2.04000000e+00,   0.00000000e+00,\n",
       "          1.85196558e+00,   1.85196558e+00,   1.00000000e+03,\n",
       "          1.00000000e+03,   1.00000000e+03],\n",
       "       [  2.41995244e+00,   2.11506659e+00,   2.20500000e+00,\n",
       "          1.09940079e+00,   1.68000000e+00,   1.68000000e+00,\n",
       "          2.25465119e+00,   2.25465119e+00,   2.04000000e+00,\n",
       "          2.04000000e+00,   2.04000000e+00,   1.77196558e+00,\n",
       "          0.00000000e+00,   1.85196558e+00,   1.00000000e+03,\n",
       "          1.00000000e+03,   1.00000000e+03],\n",
       "       [  2.41995244e+00,   2.11506659e+00,   2.20500000e+00,\n",
       "          1.09940079e+00,   1.68000000e+00,   1.68000000e+00,\n",
       "          2.25465119e+00,   2.25465119e+00,   2.04000000e+00,\n",
       "          2.04000000e+00,   2.04000000e+00,   1.77196558e+00,\n",
       "          1.77196558e+00,   0.00000000e+00,   1.00000000e+03,\n",
       "          1.00000000e+03,   1.00000000e+03],\n",
       "       [  3.65000000e+00,   3.65000000e+00,   3.65000000e+00,\n",
       "          3.65000000e+00,   2.90000000e+00,   2.90000000e+00,\n",
       "          2.90000000e+00,   2.90000000e+00,   2.39307400e+00,\n",
       "          2.90000000e+00,   2.90000000e+00,   2.90000000e+00,\n",
       "          2.90000000e+00,   2.90000000e+00,   0.00000000e+00,\n",
       "          1.32600000e+00,   1.00025420e+00],\n",
       "       [  3.26214059e+00,   3.65000000e+00,   2.45747500e+00,\n",
       "          3.65000000e+00,   2.90000000e+00,   2.90000000e+00,\n",
       "          2.90000000e+00,   2.90000000e+00,   1.14707400e+00,\n",
       "          2.90000000e+00,   2.90000000e+00,   2.90000000e+00,\n",
       "          2.90000000e+00,   2.90000000e+00,   1.30600000e+00,\n",
       "          0.00000000e+00,   1.93274314e+00],\n",
       "       [  3.15000000e+00,   3.15000000e+00,   3.15000000e+00,\n",
       "          3.15000000e+00,   2.40000000e+00,   2.40000000e+00,\n",
       "          2.40000000e+00,   2.40000000e+00,   2.40000000e+00,\n",
       "          2.40000000e+00,   2.40000000e+00,   2.40000000e+00,\n",
       "          2.40000000e+00,   2.40000000e+00,   9.80254204e-01,\n",
       "          1.85274314e+00,   0.00000000e+00]])"
      ]
     },
     "execution_count": 33,
     "metadata": {},
     "output_type": "execute_result"
    }
   ],
   "source": [
    "bm = rxn.editMatrix(reacts, bm, labels)\n",
    "bm"
   ]
  },
  {
   "cell_type": "code",
   "execution_count": 36,
   "metadata": {
    "collapsed": false,
    "scrolled": true
   },
   "outputs": [
    {
     "data": {
      "text/html": [
       "<div id=\"3dmolviewer_151933091318\"  style=\"position: relative; width: 400px; height: 400px\">\n",
       "<script>\n",
       "if(typeof $3Dmolpromise === 'undefined') $3Dmolpromise = $.when($.getScript('https://3dmol.csb.pitt.edu/build/3Dmol.js'))\n",
       "var viewer_151933091318 = null;\n",
       "$3Dmolpromise.done(function() {\n",
       "viewer_151933091318 = $3Dmol.createViewer($(\"#3dmolviewer_151933091318\"),{backgroundColor:\"white\"});\n",
       "\tviewer_151933091318.addModel(\"\\n     RDKit          3D\\n\\n 17 15  0  0  0  0  0  0  0  0999 V2000\\n    0.4837    0.5846   -0.2527 C   0  0  0  0  0  0  0  0  0  0  0  0\\n    0.0108   -0.8380   -0.5678 C   0  0  0  0  0  0  0  0  0  0  0  0\\n   -0.6788    1.5697   -0.2999 C   0  0  0  0  0  0  0  0  0  0  0  0\\n    1.1715   -1.8272   -0.5196 C   0  0  0  0  0  0  0  0  0  0  0  0\\n    0.9350    0.6131    0.7629 H   0  0  0  0  0  0  0  0  0  0  0  0\\n    1.2532    0.8983   -0.9915 H   0  0  0  0  0  0  0  0  0  0  0  0\\n   -0.7586   -1.1503    0.1718 H   0  0  0  0  0  0  0  0  0  0  0  0\\n   -0.4437   -0.8662   -1.5822 H   0  0  0  0  0  0  0  0  0  0  0  0\\n   -1.6311    1.2144    0.6166 H   0  0  0  0  0  0  0  0  0  0  0  0\\n   -0.3131    2.5898   -0.0577 H   0  0  0  0  0  0  0  0  0  0  0  0\\n   -1.1316    1.5850   -1.3142 H   0  0  0  0  0  0  0  0  0  0  0  0\\n    1.6284   -1.8371    0.4929 H   0  0  0  0  0  0  0  0  0  0  0  0\\n    0.8001   -2.8477   -0.7515 H   0  0  0  0  0  0  0  0  0  0  0  0\\n    1.9445   -1.5519   -1.2685 H   0  0  0  0  0  0  0  0  0  0  0  0\\n   -1.0077    0.2587    2.1550 O   0  0  0  0  0  0  0  0  0  0  0  0\\n   -2.0414    0.9093    1.6653 O   0  0  0  0  0  1  0  0  0  0  0  0\\n   -0.2210    0.6953    1.7412 H   0  0  0  0  0  0  0  0  0  0  0  0\\n  1  6  1  0\\n  1  2  1  0\\n  1  3  1  0\\n  1  5  1  0\\n  2  4  1  0\\n  2  7  1  0\\n  2  8  1  0\\n  3  9  1  0\\n  3 10  1  0\\n  3 11  1  0\\n  4 13  1  0\\n  4 14  1  0\\n  4 12  1  0\\n 15 16  1  0\\n 15 17  1  0\\nM  RAD  1  16   2\\nM  END\\n\",\"sdf\");\n",
       "\tviewer_151933091318.setStyle({\"stick\": {}});\n",
       "\tviewer_151933091318.setBackgroundColor(\"0xeeeeee\");\n",
       "\tviewer_151933091318.zoomTo();\n",
       "viewer_151933091318.render();\n",
       "});\n",
       "</script>"
      ],
      "text/plain": [
       "<IPython.core.display.HTML object>"
      ]
     },
     "execution_count": 36,
     "metadata": {},
     "output_type": "execute_result"
    }
   ],
   "source": [
    "reacts = rxn.reactantGeom.rd_embed(rdkit_mol, 1000, bm=bm, match=atom_match)[0]\n",
    "view_mol(reacts)"
   ]
  },
  {
   "cell_type": "code",
   "execution_count": 39,
   "metadata": {
    "collapsed": false
   },
   "outputs": [
    {
     "ename": "Exception",
     "evalue": "Couldn't find Gaussian executable at (Gaussian 2003 or 2009). Try setting your GAUSS_EXEDIR environment variable.",
     "output_type": "error",
     "traceback": [
      "\u001b[0;31m---------------------------------------------------------------------------\u001b[0m",
      "\u001b[0;31mException\u001b[0m                                 Traceback (most recent call last)",
      "\u001b[0;32m<ipython-input-39-4e5800dbb284>\u001b[0m in \u001b[0;36m<module>\u001b[0;34m()\u001b[0m\n\u001b[1;32m      5\u001b[0m                         scratchDirectory=os.path.expandvars('.'))\n\u001b[1;32m      6\u001b[0m \u001b[0;34m\u001b[0m\u001b[0m\n\u001b[0;32m----> 7\u001b[0;31m \u001b[0mr\u001b[0m \u001b[0;34m=\u001b[0m \u001b[0mqmCalc\u001b[0m\u001b[0;34m.\u001b[0m\u001b[0mgetKineticData\u001b[0m\u001b[0;34m(\u001b[0m\u001b[0mreaction\u001b[0m\u001b[0;34m,\u001b[0m \u001b[0mtsDatabase\u001b[0m\u001b[0;34m)\u001b[0m\u001b[0;34m\u001b[0m\u001b[0m\n\u001b[0m",
      "\u001b[0;32m/Users/nathan/Code/RMG-discovery/rmgpy/qm/main.pyc\u001b[0m in \u001b[0;36mgetKineticData\u001b[0;34m(self, reaction, tsDatabase)\u001b[0m\n\u001b[1;32m    248\u001b[0m             \u001b[0;32mraise\u001b[0m \u001b[0mException\u001b[0m\u001b[0;34m(\u001b[0m\u001b[0;34m\"Unknown QM software '{0}'\"\u001b[0m\u001b[0;34m.\u001b[0m\u001b[0mformat\u001b[0m\u001b[0;34m(\u001b[0m\u001b[0mself\u001b[0m\u001b[0;34m.\u001b[0m\u001b[0msettings\u001b[0m\u001b[0;34m.\u001b[0m\u001b[0msoftware\u001b[0m\u001b[0;34m)\u001b[0m\u001b[0;34m)\u001b[0m\u001b[0;34m\u001b[0m\u001b[0m\n\u001b[1;32m    249\u001b[0m \u001b[0;34m\u001b[0m\u001b[0m\n\u001b[0;32m--> 250\u001b[0;31m         \u001b[0mreaction\u001b[0m \u001b[0;34m=\u001b[0m \u001b[0mqm_reaction_calculator\u001b[0m\u001b[0;34m.\u001b[0m\u001b[0mgenerateKineticData\u001b[0m\u001b[0;34m(\u001b[0m\u001b[0;34m)\u001b[0m\u001b[0;34m\u001b[0m\u001b[0m\n\u001b[0m\u001b[1;32m    251\u001b[0m         \u001b[0;32mreturn\u001b[0m \u001b[0mreaction\u001b[0m\u001b[0;34m\u001b[0m\u001b[0m\n\u001b[1;32m    252\u001b[0m \u001b[0;34m\u001b[0m\u001b[0m\n",
      "\u001b[0;32m/Users/nathan/Code/RMG-discovery/rmgpy/qm/reaction.pyc\u001b[0m in \u001b[0;36mgenerateKineticData\u001b[0;34m(self)\u001b[0m\n\u001b[1;32m    836\u001b[0m         \u001b[0mself\u001b[0m\u001b[0;34m.\u001b[0m\u001b[0minitialize\u001b[0m\u001b[0;34m(\u001b[0m\u001b[0;34m)\u001b[0m\u001b[0;34m\u001b[0m\u001b[0m\n\u001b[1;32m    837\u001b[0m \u001b[0;34m\u001b[0m\u001b[0m\n\u001b[0;32m--> 838\u001b[0;31m         \u001b[0mtsFound\u001b[0m \u001b[0;34m=\u001b[0m \u001b[0mself\u001b[0m\u001b[0;34m.\u001b[0m\u001b[0mgenerateTSGeometryDirectGuess\u001b[0m\u001b[0;34m(\u001b[0m\u001b[0;34m)\u001b[0m\u001b[0;34m\u001b[0m\u001b[0m\n\u001b[0m\u001b[1;32m    839\u001b[0m \u001b[0;34m\u001b[0m\u001b[0m\n\u001b[1;32m    840\u001b[0m         \u001b[0;32mif\u001b[0m \u001b[0;32mnot\u001b[0m \u001b[0mtsFound\u001b[0m\u001b[0;34m:\u001b[0m\u001b[0;34m\u001b[0m\u001b[0m\n",
      "\u001b[0;32m/Users/nathan/Code/RMG-discovery/rmgpy/qm/reaction.pyc\u001b[0m in \u001b[0;36mgenerateTSGeometryDirectGuess\u001b[0;34m(self)\u001b[0m\n\u001b[1;32m    560\u001b[0m         \u001b[0matomSymbols\u001b[0m\u001b[0;34m,\u001b[0m \u001b[0matomCoords\u001b[0m \u001b[0;34m=\u001b[0m \u001b[0mself\u001b[0m\u001b[0;34m.\u001b[0m\u001b[0mreactantGeom\u001b[0m\u001b[0;34m.\u001b[0m\u001b[0mparseMOL\u001b[0m\u001b[0;34m(\u001b[0m\u001b[0mself\u001b[0m\u001b[0;34m.\u001b[0m\u001b[0mreactantGeom\u001b[0m\u001b[0;34m.\u001b[0m\u001b[0mgetRefinedMolFilePath\u001b[0m\u001b[0;34m(\u001b[0m\u001b[0;34m)\u001b[0m\u001b[0;34m)\u001b[0m\u001b[0;34m\u001b[0m\u001b[0m\n\u001b[1;32m    561\u001b[0m         \u001b[0mlogging\u001b[0m\u001b[0;34m.\u001b[0m\u001b[0minfo\u001b[0m\u001b[0;34m(\u001b[0m\u001b[0;34m\"TS estimate made. About to try the search...\"\u001b[0m\u001b[0;34m)\u001b[0m\u001b[0;34m\u001b[0m\u001b[0m\n\u001b[0;32m--> 562\u001b[0;31m         \u001b[0mcheck\u001b[0m \u001b[0;34m=\u001b[0m  \u001b[0mself\u001b[0m\u001b[0;34m.\u001b[0m\u001b[0mtsSearch\u001b[0m\u001b[0;34m(\u001b[0m\u001b[0mlabels\u001b[0m\u001b[0;34m)\u001b[0m\u001b[0;34m\u001b[0m\u001b[0m\n\u001b[0m\u001b[1;32m    563\u001b[0m \u001b[0;34m\u001b[0m\u001b[0m\n\u001b[1;32m    564\u001b[0m         \u001b[0;32mreturn\u001b[0m \u001b[0mcheck\u001b[0m\u001b[0;34m\u001b[0m\u001b[0m\n",
      "\u001b[0;32m/Users/nathan/Code/RMG-discovery/rmgpy/qm/reaction.pyc\u001b[0m in \u001b[0;36mtsSearch\u001b[0;34m(self, labels)\u001b[0m\n\u001b[1;32m    500\u001b[0m         \u001b[0mpath\u001b[0m \u001b[0manalysis\u001b[0m \u001b[0mcalculation\u001b[0m\u001b[0;34m.\u001b[0m \u001b[0mThe\u001b[0m \u001b[0mts\u001b[0m \u001b[0mestimate\u001b[0m \u001b[0;32mis\u001b[0m \u001b[0mderived\u001b[0m \u001b[0;32mfrom\u001b[0m \u001b[0mthe\u001b[0m \u001b[0mgroup\u001b[0m \u001b[0madditive\u001b[0m \u001b[0mprediction\u001b[0m\u001b[0;34m.\u001b[0m\u001b[0;34m\u001b[0m\u001b[0m\n\u001b[1;32m    501\u001b[0m         \"\"\"\n\u001b[0;32m--> 502\u001b[0;31m         \u001b[0msuccessfulTS\u001b[0m \u001b[0;34m=\u001b[0m \u001b[0mself\u001b[0m\u001b[0;34m.\u001b[0m\u001b[0moptimizeTS\u001b[0m\u001b[0;34m(\u001b[0m\u001b[0mlabels\u001b[0m\u001b[0;34m)\u001b[0m\u001b[0;34m\u001b[0m\u001b[0m\n\u001b[0m\u001b[1;32m    503\u001b[0m         \u001b[0;32mif\u001b[0m \u001b[0;32mnot\u001b[0m \u001b[0msuccessfulTS\u001b[0m\u001b[0;34m:\u001b[0m\u001b[0;34m\u001b[0m\u001b[0m\n\u001b[1;32m    504\u001b[0m             \u001b[0;32mreturn\u001b[0m \u001b[0msuccessfulTS\u001b[0m\u001b[0;34m\u001b[0m\u001b[0m\n",
      "\u001b[0;32m/Users/nathan/Code/RMG-discovery/rmgpy/qm/reaction.pyc\u001b[0m in \u001b[0;36moptimizeTS\u001b[0;34m(self, labels)\u001b[0m\n\u001b[1;32m    438\u001b[0m             \u001b[0mconverged\u001b[0m\u001b[0;34m,\u001b[0m \u001b[0minternalCoord\u001b[0m \u001b[0;34m=\u001b[0m \u001b[0mself\u001b[0m\u001b[0;34m.\u001b[0m\u001b[0mverifyOutputFile\u001b[0m\u001b[0;34m(\u001b[0m\u001b[0;34m)\u001b[0m\u001b[0;34m\u001b[0m\u001b[0m\n\u001b[1;32m    439\u001b[0m         \u001b[0;32melse\u001b[0m\u001b[0;34m:\u001b[0m\u001b[0;34m\u001b[0m\u001b[0m\n\u001b[0;32m--> 440\u001b[0;31m             \u001b[0moptEst\u001b[0m \u001b[0;34m=\u001b[0m \u001b[0mself\u001b[0m\u001b[0;34m.\u001b[0m\u001b[0moptEstimate\u001b[0m\u001b[0;34m(\u001b[0m\u001b[0mlabels\u001b[0m\u001b[0;34m)\u001b[0m\u001b[0;34m\u001b[0m\u001b[0m\n\u001b[0m\u001b[1;32m    441\u001b[0m             \u001b[0moptRC\u001b[0m \u001b[0;34m=\u001b[0m \u001b[0mself\u001b[0m\u001b[0;34m.\u001b[0m\u001b[0moptRxnCenter\u001b[0m\u001b[0;34m(\u001b[0m\u001b[0mlabels\u001b[0m\u001b[0;34m)\u001b[0m\u001b[0;34m\u001b[0m\u001b[0m\n\u001b[1;32m    442\u001b[0m \u001b[0;34m\u001b[0m\u001b[0m\n",
      "\u001b[0;32m/Users/nathan/Code/RMG-discovery/rmgpy/qm/gaussian.pyc\u001b[0m in \u001b[0;36moptEstimate\u001b[0;34m(self, labels)\u001b[0m\n\u001b[1;32m    604\u001b[0m         \u001b[0mself\u001b[0m\u001b[0;34m.\u001b[0m\u001b[0mwriteInputFile\u001b[0m\u001b[0;34m(\u001b[0m\u001b[0moutput\u001b[0m\u001b[0;34m,\u001b[0m \u001b[0mattempt\u001b[0m\u001b[0;34m,\u001b[0m \u001b[0mtop_keys\u001b[0m\u001b[0;34m=\u001b[0m\u001b[0mtop_keys\u001b[0m\u001b[0;34m,\u001b[0m \u001b[0mnumProcShared\u001b[0m\u001b[0;34m=\u001b[0m\u001b[0;36m20\u001b[0m\u001b[0;34m,\u001b[0m \u001b[0mmemory\u001b[0m\u001b[0;34m=\u001b[0m\u001b[0;34m'5GB'\u001b[0m\u001b[0;34m,\u001b[0m \u001b[0mbottomKeys\u001b[0m\u001b[0;34m=\u001b[0m\u001b[0mbottomKeys\u001b[0m\u001b[0;34m,\u001b[0m \u001b[0minputFilePath\u001b[0m\u001b[0;34m=\u001b[0m\u001b[0minputFilePath\u001b[0m\u001b[0;34m)\u001b[0m\u001b[0;34m\u001b[0m\u001b[0m\n\u001b[1;32m    605\u001b[0m \u001b[0;34m\u001b[0m\u001b[0m\n\u001b[0;32m--> 606\u001b[0;31m         \u001b[0moutputFilePath\u001b[0m \u001b[0;34m=\u001b[0m \u001b[0mself\u001b[0m\u001b[0;34m.\u001b[0m\u001b[0mrunAlt\u001b[0m\u001b[0;34m(\u001b[0m\u001b[0minputFilePath\u001b[0m\u001b[0;34m)\u001b[0m\u001b[0;34m\u001b[0m\u001b[0m\n\u001b[0m\u001b[1;32m    607\u001b[0m \u001b[0;34m\u001b[0m\u001b[0m\n\u001b[1;32m    608\u001b[0m         \u001b[0;32mreturn\u001b[0m \u001b[0moutputFilePath\u001b[0m\u001b[0;34m\u001b[0m\u001b[0m\n",
      "\u001b[0;32m/Users/nathan/Code/RMG-discovery/rmgpy/qm/gaussian.pyc\u001b[0m in \u001b[0;36mrunAlt\u001b[0;34m(self, inputFilePath)\u001b[0m\n\u001b[1;32m    700\u001b[0m         \u001b[0mthe\u001b[0m \u001b[0mresulting\u001b[0m \u001b[0;34m`\u001b[0m\u001b[0mlogFilePath\u001b[0m\u001b[0;34m`\u001b[0m\u001b[0;34m.\u001b[0m \u001b[0mDoes\u001b[0m \u001b[0mno\u001b[0m \u001b[0mprocessing\u001b[0m\u001b[0;34m.\u001b[0m\u001b[0;34m\u001b[0m\u001b[0m\n\u001b[1;32m    701\u001b[0m         \"\"\"\n\u001b[0;32m--> 702\u001b[0;31m         \u001b[0mself\u001b[0m\u001b[0;34m.\u001b[0m\u001b[0mtestReady\u001b[0m\u001b[0;34m(\u001b[0m\u001b[0;34m)\u001b[0m\u001b[0;34m\u001b[0m\u001b[0m\n\u001b[0m\u001b[1;32m    703\u001b[0m         \u001b[0;31m# submits the input file to Gaussian\u001b[0m\u001b[0;34m\u001b[0m\u001b[0;34m\u001b[0m\u001b[0m\n\u001b[1;32m    704\u001b[0m         \u001b[0mprocess\u001b[0m \u001b[0;34m=\u001b[0m \u001b[0mPopen\u001b[0m\u001b[0;34m(\u001b[0m\u001b[0;34m[\u001b[0m\u001b[0mself\u001b[0m\u001b[0;34m.\u001b[0m\u001b[0mexecutablePath\u001b[0m\u001b[0;34m,\u001b[0m \u001b[0minputFilePath\u001b[0m\u001b[0;34m]\u001b[0m\u001b[0;34m)\u001b[0m\u001b[0;34m\u001b[0m\u001b[0m\n",
      "\u001b[0;32m/Users/nathan/Code/RMG-discovery/rmgpy/qm/gaussian.pyc\u001b[0m in \u001b[0;36mtestReady\u001b[0;34m(self)\u001b[0m\n\u001b[1;32m     97\u001b[0m     \u001b[0;32mdef\u001b[0m \u001b[0mtestReady\u001b[0m\u001b[0;34m(\u001b[0m\u001b[0mself\u001b[0m\u001b[0;34m)\u001b[0m\u001b[0;34m:\u001b[0m\u001b[0;34m\u001b[0m\u001b[0m\n\u001b[1;32m     98\u001b[0m         \u001b[0;32mif\u001b[0m \u001b[0;32mnot\u001b[0m \u001b[0mos\u001b[0m\u001b[0;34m.\u001b[0m\u001b[0mpath\u001b[0m\u001b[0;34m.\u001b[0m\u001b[0mexists\u001b[0m\u001b[0;34m(\u001b[0m\u001b[0mself\u001b[0m\u001b[0;34m.\u001b[0m\u001b[0mexecutablePath\u001b[0m\u001b[0;34m)\u001b[0m\u001b[0;34m:\u001b[0m\u001b[0;34m\u001b[0m\u001b[0m\n\u001b[0;32m---> 99\u001b[0;31m             \u001b[0;32mraise\u001b[0m \u001b[0mException\u001b[0m\u001b[0;34m(\u001b[0m\u001b[0;34m\"Couldn't find Gaussian executable at {0}. Try setting your GAUSS_EXEDIR environment variable.\"\u001b[0m\u001b[0;34m.\u001b[0m\u001b[0mformat\u001b[0m\u001b[0;34m(\u001b[0m\u001b[0mself\u001b[0m\u001b[0;34m.\u001b[0m\u001b[0mexecutablePath\u001b[0m\u001b[0;34m)\u001b[0m\u001b[0;34m)\u001b[0m\u001b[0;34m\u001b[0m\u001b[0m\n\u001b[0m\u001b[1;32m    100\u001b[0m \u001b[0;34m\u001b[0m\u001b[0m\n\u001b[1;32m    101\u001b[0m     \u001b[0;32mdef\u001b[0m \u001b[0mgeomToString\u001b[0m\u001b[0;34m(\u001b[0m\u001b[0mself\u001b[0m\u001b[0;34m,\u001b[0m \u001b[0matomsymbols\u001b[0m\u001b[0;34m,\u001b[0m \u001b[0matomcoords\u001b[0m\u001b[0;34m,\u001b[0m \u001b[0moutputString\u001b[0m\u001b[0;34m=\u001b[0m\u001b[0;34m''\u001b[0m\u001b[0;34m,\u001b[0m \u001b[0mfreezeAtoms\u001b[0m\u001b[0;34m=\u001b[0m\u001b[0;34m[\u001b[0m\u001b[0;34m]\u001b[0m\u001b[0;34m)\u001b[0m\u001b[0;34m:\u001b[0m\u001b[0;34m\u001b[0m\u001b[0m\n",
      "\u001b[0;31mException\u001b[0m: Couldn't find Gaussian executable at (Gaussian 2003 or 2009). Try setting your GAUSS_EXEDIR environment variable."
     ]
    }
   ],
   "source": [
    "qmCalc = QMCalculator(\n",
    "                        software='gaussian',\n",
    "                        method='m062x',\n",
    "                        fileStore=os.path.expandvars('.'),\n",
    "                        scratchDirectory=os.path.expandvars('.'))\n",
    "\n",
    "r = qmCalc.getKineticData(reaction, tsDatabase)"
   ]
  },
  {
   "cell_type": "code",
   "execution_count": null,
   "metadata": {
    "collapsed": true
   },
   "outputs": [],
   "source": [
    "for reaction in reactionList:\n",
    "    # Check if any of the RMG proposed reactions matches the reaction in the mechanism\n",
    "    if testReaction.isIsomorphic(reaction):\n",
    "        # Now add the labeled atoms to the Molecule, and check all labels were added\n",
    "        atLblsR = dict([(lbl[0], False) for lbl in reaction.labeledAtoms])\n",
    "        atLblsP = dict([(lbl[0], False) for lbl in reaction.labeledAtoms])\n",
    "\n",
    "        for reactant in reaction.reactants:\n",
    "\n",
    "            reactant.clearLabeledAtoms()\n",
    "            for atom in reactant.atoms:\n",
    "                for atomLabel in reaction.labeledAtoms:\n",
    "                    if atom==atomLabel[1]:\n",
    "                        atom.label = atomLabel[0]\n",
    "                        atLblsR[atomLabel[0]] = True\n",
    "        for product in reaction.products:\n",
    "\n",
    "            product.clearLabeledAtoms()\n",
    "            for atom in product.atoms:\n",
    "                for atomLabel in reaction.labeledAtoms:\n",
    "                    if atom==atomLabel[1]:\n",
    "                        atom.label = atomLabel[0]\n",
    "                        atLblsP[atomLabel[0]] = True\n",
    "        if all( atLblsR.values() ) and all( atLblsP.values() ):\n",
    "            gotOne=True\n",
    "            break\n",
    "\n",
    "\n",
    "qmCalc = QMCalculator(\n",
    "                        software='gaussian',\n",
    "                        method='m062x',\n",
    "                        fileStore=os.path.expandvars('/gss_gpfs_scratch/harms.n/QMfiles'),\n",
    "                        scratchDirectory=os.path.expandvars('/gss_gpfs_scratch/harms.n/QMscratch'),\n",
    "                        )\n",
    "\n",
    "def calculate(reaction):\n",
    "    logging.info(\"Calculating reaction rate for {!s}\".format(reaction))\n",
    "    rxnFamily = reaction.family\n",
    "    logging.info(\"Selecting the appropriate TS distance database for family {!r}\".format(rxnFamily))\n",
    "    tsDatabase = rmgDatabase.kinetics.families[rxnFamily].transitionStates\n",
    "    logging.info(\"Calculating kinetic data by calling qmCalc.getKineticData\")\n",
    "    reaction = qmCalc.getKineticData(reaction, tsDatabase)\n",
    "    logging.info(\"Removing 'core*' files\")\n",
    "    for files in os.listdir('./'):  # This deletes any files with names starting 'core' which fill up your disk space on discovery.\n",
    "        if files.startswith('core'):\n",
    "            try:\n",
    "                os.remove(files)\n",
    "            except:\n",
    "                logging.info(\"Error deleting files {}\".format(files))\n",
    "    if reaction.kinetics:\n",
    "        logging.info(\"Yay, reaction kinetics calculated!!!\")\n",
    "        logging.info(repr(reaction))\n",
    "    else:\n",
    "        logging.info(\"Boo, reaction kinetics not calculated!!!\")\n",
    "    return reaction\n",
    "\n",
    "def performCalcs(chemkinRxn):\n",
    "\n",
    "    logging.info(\"chemkinRxn: {!r}\".format(chemkinRxn))\n",
    "    # Ensure all resonance isomers have been generated\n",
    "    logging.info('Ensuring resonance isomers have been generated')\n",
    "    for species in itertools.chain(chemkinRxn.reactants, chemkinRxn.products):\n",
    "        print(type(species))\n",
    "        species = species.generateResonanceIsomers()\n",
    "\n",
    "    testReaction = Reaction(reactants=chemkinRxn.reactants, products=chemkinRxn.products, reversible=True)\n",
    "\n",
    "    reactants = [species for species in chemkinRxn.reactants]\n",
    "    # reactant_molecules is a list of lists of resonance isomers,\n",
    "    # eg. a bimolecular reaction where the second reactant has 2 isomers is: [[r1],[r2i1,r2i2]]\n",
    "\n",
    "    products = [species for species in chemkinRxn.products]\n",
    "    # products is a list of molecule objects (only one resonance form of each product), eg [p1, p2]\n",
    "    print reactants\n",
    "    #print type(reactant_molecules[0])\n",
    "    print products\n",
    "\n",
    "    checkRxn = rmgDatabase.kinetics.generateReactionsFromFamilies(reactants, products, only_families=rxnFamilies)\n",
    "    if len(checkRxn) == 1:\n",
    "        logging.info(\"Generated one reaction:\")\n",
    "        logging.info(checkRxn)\n",
    "        reaction = checkRxn[0]\n",
    "    else:  # didn't break from for loop\n",
    "        for reaction in checkRxn:\n",
    "            logging.info(\"Generated these reactions:\")\n",
    "            logging.info(reaction)\n",
    "            reaction = checkRxn[0]\n",
    "        raise Exception(\"Couldn't generate exactly one reaction matching {} in family {}\".format(chemkinRxn, rxnFamilies))\n",
    "\n",
    "    logging.info(\"The reaction of interest is as follows: \")\n",
    "    logging.info(reaction)\n",
    "\n",
    "    logging.info(\"asserting that the testReaction is Isomorphic\")\n",
    "    assert testReaction.isIsomorphic(reaction)\n",
    "    logging.info(\"reaction: {!r}\".format(reaction))\n",
    "\n",
    "    atLblsR = dict([(lbl[0], False) for lbl in reaction.labeledAtoms])\n",
    "    atLblsP = dict([(lbl[0], False) for lbl in reaction.labeledAtoms])\n",
    "\n",
    "    gotOne = False\n",
    "    logging.info(\"Labeling reactant atoms\")\n",
    "    for reactant in reaction.reactants:\n",
    "        reactant = reactant\n",
    "        reactant.clearLabeledAtoms()\n",
    "        for atom in reactant.atoms:\n",
    "            for atomLabel in reaction.labeledAtoms:\n",
    "                if atom == atomLabel[1]:\n",
    "                    atom.label = atomLabel[0]\n",
    "                    atLblsR[atomLabel[0]] = True\n",
    "\n",
    "    logging.info(\"Labeling product atoms\")\n",
    "    for product in reaction.products:\n",
    "        product = product\n",
    "        product.clearLabeledAtoms()\n",
    "        for atom in product.atoms:\n",
    "            for atomLabel in reaction.labeledAtoms:\n",
    "                if atom == atomLabel[1]:\n",
    "                    atom.label = atomLabel[0]\n",
    "                    atLblsP[atomLabel[0]] = True\n",
    "\n",
    "    if all(atLblsR.values()) and all(atLblsP.values()):\n",
    "        gotOne = True\n",
    "\n",
    "    rxnFamily = reaction.family\n",
    "    assert gotOne, \"Couldn't label all the atoms using the reaction family template\"\n",
    "\n",
    "    logging.info(\"We have generated a {!s} reaction that matches, and used it to label the atoms.\".format(rxnFamily))\n",
    "\n",
    "    logging.info(\"Calculating reaction kinetics\")\n",
    "    reaction = calculate(reaction)\n",
    "\n",
    "    logging.info(\"For reaction {0!r}\".format(reaction))\n",
    "    if reaction.kinetics:\n",
    "        logging.info(\"We have calculated kinetics {0!r}\".format(reaction.kinetics))\n",
    "\n",
    "    else:\n",
    "        logging.warning(\"Couldn't calculate kinetics.\")\n",
    "\n",
    "\n",
    "    if reaction.kinetics and False:\n",
    "        \"\"\"\n",
    "        Return the rate coefficient in the appropriate combination of cm^3,\n",
    "        mol, and s at temperature `T` in K and pressure `P` in Pa.\n",
    "        \"\"\"\n",
    "        importKin = chemkinRxn['rmgPyKinetics']\n",
    "        Temp = 1000  # Kelvin\n",
    "        idx = str(i)\n",
    "        row = [idx, rxnFamily]\n",
    "        row.extend([mol.label for mol in reaction.reactants])\n",
    "        row.extend([mol.label for mol in reaction.products])\n",
    "\n",
    "        rateCal = reaction.calculateTSTRateCoefficient(Temp)\n",
    "        row.extend(['AutoTST_fwd', str(rateCal)])\n",
    "\n",
    "        if isinstance(importKin, PDepArrhenius) or isinstance(importKin, PDepKineticsModel):\n",
    "            row.extend([smiles_dict[entry], str(importKin.getRateCoefficient(Temp, 1000000))])  #1000000 Pa = 10 bar\n",
    "        else:\n",
    "            row.extend([smiles_dict[entry], str(importKin.getRateCoefficient(Temp))])\n",
    "\n",
    "        famDatabase = rmgDatabase.kinetics.families[rxnFamily]\n",
    "        famDatabase.addKineticsRulesFromTrainingSet(thermoDatabase=rmgDatabase.thermo)\n",
    "        famDatabase.fillKineticsRulesByAveragingUp()\n",
    "\n",
    "        # Using the `testReaction` will keep the reaction direction the same as the model\n",
    "        rxnTemplate = famDatabase.getReactionTemplate(testReaction)\n",
    "        kList = famDatabase.getKinetics(testReaction, rxnTemplate)\n",
    "\n",
    "        allRates = []\n",
    "        kComments = []\n",
    "        for rate in kList:\n",
    "            k = rate[0]\n",
    "            if k:\n",
    "                label = rate[1]\n",
    "                if isinstance(label, KineticsDepository):\n",
    "                    label = label.label\n",
    "                elif isinstance(label, KineticsRules):\n",
    "                    label = label.label\n",
    "                if label.lower() == 'rate rules':\n",
    "                    kComments = k.comment.split('\\n')\n",
    "                allRates.append((label, k.getRateCoefficient(Temp)))\n",
    "\n",
    "        kDict = {'Rate Rules': []}\n",
    "        for kTuple in allRates:\n",
    "            if kTuple[0] == 'AutoTST':\n",
    "                kDict['AutoTST'] = kDict['AutoTST'] + [kTuple[1]]\n",
    "            elif kTuple[0] == 'rate rules':\n",
    "                kDict['Rate Rules'] = kDict['Rate Rules'] + [kTuple[1]]\n",
    "            elif kTuple[0].endswith('/NIST'):\n",
    "                kDict['NIST'] = kDict['NIST'] + [kTuple[1]]\n",
    "            elif kTuple[0].endswith('/rules'):\n",
    "                kDict['KineitcsRules'] = kDict['KineitcsRules'] + [kTuple[1]]\n",
    "\n",
    "        # Print the values in order\n",
    "        kineticsTypes = ['Rate Rules']  #['AutoTST', 'Rate Rules', 'NIST', 'KineitcsRules']\n",
    "        for kinType in kineticsTypes:\n",
    "            row.append(kinType)\n",
    "            if kDict[kinType] == []:\n",
    "                row.append('no Val')\n",
    "            else:\n",
    "                for val in kDict[kinType]:\n",
    "                    row.append(str(val))\n",
    "\n",
    "        # Store line containing reaction from corresponding chemkin file\n",
    "        row.append(smiles_dict[entry])\n",
    "        row.append(chemkinRxn['chemkinKinetics'].strip())\n",
    "\n",
    "        # Store rmgpy kinetics group comments\n",
    "        row = row + kComments\n",
    "\n",
    "        folderPath = os.path.join('KinTxtFiles', idx)\n",
    "\n",
    "        if not os.path.exists(folderPath):\n",
    "            os.makedirs(folderPath)\n",
    "\n",
    "        input_string = ','.join(row)\n",
    "        with open(os.path.join(folderPath, smiles_dict[entry] + '_kinetics.txt'), 'w') as kinTxt:\n",
    "                kinTxt.write(input_string)\n",
    "\n",
    "\n",
    "\n",
    "rxn = reactionList[0]\n",
    "performCalcs(rxn)"
   ]
  }
 ],
 "metadata": {
  "kernelspec": {
   "display_name": "Python 2",
   "language": "python",
   "name": "python2"
  },
  "language_info": {
   "codemirror_mode": {
    "name": "ipython",
    "version": 2
   },
   "file_extension": ".py",
   "mimetype": "text/x-python",
   "name": "python",
   "nbconvert_exporter": "python",
   "pygments_lexer": "ipython2",
   "version": "2.7.12"
  }
 },
 "nbformat": 4,
 "nbformat_minor": 2
}
